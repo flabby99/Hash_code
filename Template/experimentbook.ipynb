{
 "cells": [
  {
   "cell_type": "code",
   "execution_count": null,
   "id": "clear-aluminum",
   "metadata": {},
   "outputs": [],
   "source": [
    "import os"
   ]
  },
  {
   "cell_type": "code",
   "execution_count": null,
   "id": "hearing-washington",
   "metadata": {},
   "outputs": [],
   "source": [
    "from solution import read_file"
   ]
  },
  {
   "cell_type": "code",
   "execution_count": null,
   "id": "steady-steering",
   "metadata": {},
   "outputs": [],
   "source": [
    "here = os.getcwd()\n",
    "start_dir = os.path.join(here, \"input_files\")\n",
    "print(f\"Files in input dir {start_dir} are:\")\n",
    "file_list = []\n",
    "for root, dirs, files in os.walk(start_dir, topdown=False):\n",
    "    for f in files:\n",
    "        if f.endswith(\".in\"):\n",
    "            print(\"\\t\"+f)\n",
    "            file_list.append(os.path.join(root, f))"
   ]
  },
  {
   "cell_type": "code",
   "execution_count": null,
   "id": "environmental-yeast",
   "metadata": {},
   "outputs": [],
   "source": [
    "read_info = read_file(file_list[0])\n",
    "print(read_info)"
   ]
  }
 ],
 "metadata": {
  "kernelspec": {
   "display_name": "Python 3",
   "language": "python",
   "name": "python3"
  },
  "language_info": {
   "codemirror_mode": {
    "name": "ipython",
    "version": 3
   },
   "file_extension": ".py",
   "mimetype": "text/x-python",
   "name": "python",
   "nbconvert_exporter": "python",
   "pygments_lexer": "ipython3",
   "version": "3.8.0"
  }
 },
 "nbformat": 4,
 "nbformat_minor": 5
}
